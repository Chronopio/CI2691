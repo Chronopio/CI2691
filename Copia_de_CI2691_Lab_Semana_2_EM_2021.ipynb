{
  "nbformat": 4,
  "nbformat_minor": 0,
  "metadata": {
    "colab": {
      "name": "Copia de CI2691 Lab  Semana 2 EM 2021.ipynb",
      "private_outputs": true,
      "provenance": [],
      "collapsed_sections": [],
      "toc_visible": true,
      "include_colab_link": true
    },
    "kernelspec": {
      "name": "python3",
      "display_name": "Python 3"
    }
  },
  "cells": [
    {
      "cell_type": "markdown",
      "metadata": {
        "id": "view-in-github",
        "colab_type": "text"
      },
      "source": [
        "<a href=\"https://colab.research.google.com/github/Chronopio/CI2691/blob/main/Copia_de_CI2691_Lab_Semana_2_EM_2021.ipynb\" target=\"_parent\"><img src=\"https://colab.research.google.com/assets/colab-badge.svg\" alt=\"Open In Colab\"/></a>"
      ]
    },
    {
      "cell_type": "markdown",
      "metadata": {
        "id": "Wbn7fLMUt73f"
      },
      "source": [
        ""
      ]
    },
    {
      "cell_type": "markdown",
      "metadata": {
        "id": "XOrbiXCI12RT"
      },
      "source": [
        "\n",
        "<img src=\"http://ykxyjwk.cluster028.hosting.ovh.net/logotipoUSB.png\" width=300></img> \n",
        "# CI2691 Laboratorio de Algoritmos I\n",
        "\n",
        "\n",
        "# Laboratorio  Semana 2, versión 1.0\n",
        "\n",
        "\n",
        "Rosseline Rodríguez & Carolina Chang. This work is licensed under a <a rel=\"license\" href=\"http://creativecommons.org/licenses/by-nc/4.0/\">Creative Commons Attribution-NonCommercial 4.0 International License </a>  <a rel=\"license\" href=\"http://creativecommons.org/licenses/by-nc/4.0/\"><img alt=\"Creative Commons License\" style=\"border-width:0\" src=\"https://i.creativecommons.org/l/by-nc/4.0/88x31.png\" /></a>.\n",
        "\n",
        "<br>\n",
        "\n",
        "El objetivo de este laboratorio es conocer los tipos y operaciones básicas de Python, constantes, variables, funciones, así como el uso de  cuantificadores y aserciones."
      ]
    },
    {
      "cell_type": "markdown",
      "metadata": {
        "id": "lJrOYHr53kMr"
      },
      "source": [
        "#Operaciones Aritméticas\n",
        "\n",
        "El interpretador de python funciona como una calculadora en la que se escribe una expresión y ella responde con el resultado. La sintaxis de las expresiones sigue la notación matemática tradicional y respeta sus reglas de agrupación. Se puede escribir comentarios que son textos cualesquiera precedidos del caracter #\n",
        "\n",
        "En el siguiente enlace se pueden consultar algunas operaciones disponibles en Python: \n",
        "\n",
        "https://docs.python.org/3.3/library/stdtypes.html#numeric-types-int-float-complex\n",
        "\n",
        "\n",
        "Para ejecutar una celda de código en Colab, coloca el cursor dentro de  [   ]. Aparecerá una flecha que debes presionar."
      ]
    },
    {
      "cell_type": "code",
      "metadata": {
        "id": "zki8oWgpt0Us"
      },
      "source": [
        "2+2"
      ],
      "execution_count": null,
      "outputs": []
    },
    {
      "cell_type": "code",
      "metadata": {
        "id": "7rz4w4gW2wCz"
      },
      "source": [
        "6*5/15"
      ],
      "execution_count": null,
      "outputs": []
    },
    {
      "cell_type": "markdown",
      "metadata": {
        "id": "7Kt0S4SZ4GuQ"
      },
      "source": [
        " / es la división , // es la división entera"
      ]
    },
    {
      "cell_type": "code",
      "metadata": {
        "id": "O7af-FUQ3BYL"
      },
      "source": [
        "9/2      # division real"
      ],
      "execution_count": null,
      "outputs": []
    },
    {
      "cell_type": "code",
      "metadata": {
        "id": "xw7Dz4C03JP5"
      },
      "source": [
        "9//2     # division entera"
      ],
      "execution_count": null,
      "outputs": []
    },
    {
      "cell_type": "markdown",
      "metadata": {
        "id": "jc3YJwzt48pL"
      },
      "source": [
        "# Variables\n",
        "\n",
        "Al igual que en las calculadoras, las variables representan casillas de memoria en las que se puede almacenar y luego consultar valores. El signo de igualdad (=) se utiliza para asignar variables.\n",
        "\n",
        "\n",
        "Estilo recomendado: Los nombres de variable deben ser en minúsculas, si tienen varias palabras pueden ser separadas con guión bajo para mejorar la legibilidad. \n",
        "\n",
        "https://www.python.org/dev/peps/pep-0008/#function-and-variable-names\n"
      ]
    },
    {
      "cell_type": "code",
      "metadata": {
        "id": "sqWgxjh35766"
      },
      "source": [
        "width=20\n",
        "height=3+2\n",
        "area=width*height\n",
        "print(area) # el resultado es 100"
      ],
      "execution_count": null,
      "outputs": []
    },
    {
      "cell_type": "markdown",
      "metadata": {
        "id": "5Nrea-wFeIcF"
      },
      "source": [
        "\n",
        "En Python se pueden realizar asignaciones simultáneas"
      ]
    },
    {
      "cell_type": "code",
      "metadata": {
        "id": "W1UuRMBqQIoc"
      },
      "source": [
        "x,y=1,3\n",
        "x\n"
      ],
      "execution_count": null,
      "outputs": []
    },
    {
      "cell_type": "code",
      "metadata": {
        "id": "gEa9illgQU39"
      },
      "source": [
        "y"
      ],
      "execution_count": null,
      "outputs": []
    },
    {
      "cell_type": "code",
      "metadata": {
        "id": "DLuKzMG8QZpo"
      },
      "source": [
        "print('Luego de la asignación simultánea, el valor de x es {} y el valor de y es {}.' .format(x,y))"
      ],
      "execution_count": null,
      "outputs": []
    },
    {
      "cell_type": "markdown",
      "metadata": {
        "id": "p0jH29TiixRK"
      },
      "source": [
        "Puedes investigar más detalles sobre print() y otras opciones de salida, por ejemplo en en https://www.geeksforgeeks.org/python-output-formatting/"
      ]
    },
    {
      "cell_type": "markdown",
      "metadata": {
        "id": "eDZVGvyhbpJA"
      },
      "source": [
        "#Indentación\n",
        "\n",
        "En Python no se tienen paréntesis, corchetes o palabras claves, como begin o end para delimitar el comienzo y final del un programa. Tampoco se necesita delimitadores como punto y coma para finalizar las instrucciones. Lo que permite organizar los bloques de código es la indentación. \n",
        "\n",
        "La indentación se refiere al espacio en blanco o sangría dejado al comienzo de la línea con el propósito de hacer más legible el código. En el caso de Python, la indentación además indica un bloque de instrucciones. Por ello, se debe agregar indentación cada vez que se abre un nuevo bloque o sección de código, es decir, una lista de instrucciones en secuencia dentro de una acción compuesta. Los editores que reconocen la sintaxis del lenguaje de programación suelen ayudar a tener una buena indentación. Si un conjunto de instrucciones está indentado con la misma sangría, esto forma un bloque con el mismo nivel hasta el fin de archivo o hasta que se encuentre una línea con menor indentación.\n",
        "\n",
        "Hay varios opciones para indentación, pero el estándar es tener cuatro espacios por nivel de indentación.\n"
      ]
    },
    {
      "cell_type": "markdown",
      "metadata": {
        "id": "stw00PGRtkg2"
      },
      "source": [
        "\n",
        "# Funciones\n",
        "\n",
        "La estructura general de una función en Python se inicia con la palabra reservada def, seguida del nombre de la función con la lista de parámetros formales colocados entre paréntesis. Cada parámetro puede ser seguido de dos puntos (:), y el tipo de variable que se espera obtener. Para especificar el tipo de valor de retorno, coloque el símbolo -> y luego el tipo (por ejemplo int, float, bool).\n",
        "\n",
        "\n",
        "Estilo recomendado: similar al de nombres de variables.\n",
        "\n",
        "https://www.python.org/dev/peps/pep-0008/#function-and-variable-names\n",
        "\n"
      ]
    },
    {
      "cell_type": "markdown",
      "metadata": {
        "id": "EpCKx1sKkB7z"
      },
      "source": [
        "\n",
        "Para realizar la llamada a una función, se coloca el nombre de ésta seguido de los valores de los parámetros, separados por coma y encerrados entre paréntesis. \n",
        "\n",
        "En el siguiente código definiremos una función que calcula el área de un triángulo, dadas la base y la altura del mismo. Los valores de la base y la altura son del tipo float, así como el resultado de la función. La función retorna el área. Los \"\"\"comentarios\"\"\" incluidos describen lo que realiza la función y  los parámetros que utiliza. \n",
        "\n",
        "Al llamar a la función dentro de la función print, se imprime el área calculada. Python valores del tipo int son convertidos a float por Python.\n"
      ]
    },
    {
      "cell_type": "code",
      "metadata": {
        "id": "nP4LRf7CTgU9"
      },
      "source": [
        "def area_of_triangle(base: float, height:float) -> float:\n",
        "    \"\"\" Calculates the area of a triangle\n",
        "\n",
        "        Args:\n",
        "            base: The base of the triangle\n",
        "            height: The height of the triangle\n",
        "\n",
        "        Returns:\n",
        "            The area of the triangle\n",
        "\n",
        "    \"\"\"\n",
        "\n",
        "    return 0.5*base*height\n",
        "    \n",
        "\n",
        "print(area_of_triangle(x,y))             # 0.5  *1 * 3   = 1.5  \n",
        "print(area_of_triangle(2,y))             # 0.5 * 2 * 3   = 3.0 \n",
        "print(area_of_triangle((1+1)*2, 1.5*3))  # 0.5 * 4 * 4.5 = 9\n"
      ],
      "execution_count": null,
      "outputs": []
    },
    {
      "cell_type": "markdown",
      "metadata": {
        "id": "T5rPN80uegrb"
      },
      "source": [
        "Habiendo colocado la descripción inmediatamente después de la definición de la función, permitimos a Python utilizarla como documentación de la misma. La descripción de la función puede leerse con la función help()\n"
      ]
    },
    {
      "cell_type": "code",
      "metadata": {
        "id": "ekjiYRPVdVo5"
      },
      "source": [
        "help(area_of_triangle)"
      ],
      "execution_count": null,
      "outputs": []
    },
    {
      "cell_type": "markdown",
      "metadata": {
        "id": "m5cVYwxkdi5u"
      },
      "source": [
        " ## Ejercicio:  Área del Círculo\n",
        "\n",
        " Completa la función **area_of_circle** para calcular el área de un círculo de radio **radius**. Simplemente sustituye ____  en la línea 3 por la expresión aritmética requerida."
      ]
    },
    {
      "cell_type": "code",
      "metadata": {
        "id": "yHD_Rr6hYgel"
      },
      "source": [
        "def area_of_circle(radius:float) -> float:\n",
        "    pi = 3.14159\n",
        "    return pi*(radius*radius)\n",
        "\n",
        "print(area_of_circle(2))  #  12.56636\n",
        "print(area_of_circle(0))  #  0.0\n",
        "print(area_of_circle(10)) #  314.159"
      ],
      "execution_count": null,
      "outputs": []
    },
    {
      "cell_type": "markdown",
      "metadata": {
        "id": "Zgl2Ewv8k3wL"
      },
      "source": [
        "\n",
        "\n",
        "Las funciones anteriores son de tipo float. A continuación, tenemos una función booleana que dice si un número dado es par (even). Para ello utilizamos la operación aritmética módulo (%)."
      ]
    },
    {
      "cell_type": "code",
      "metadata": {
        "id": "vp8vWCsUlMbZ"
      },
      "source": [
        "def is_even(number: int) -> bool:\n",
        "    return number % 2 == 0\n",
        "\n",
        "print(is_even(2))    # True\n",
        "print(is_even(1))    # False\n",
        "print(is_even(0))    # True\n",
        "print(is_even(-10))  # True  \n",
        "print(is_even(19))   # False "
      ],
      "execution_count": null,
      "outputs": []
    },
    {
      "cell_type": "markdown",
      "metadata": {
        "id": "ejHOr5W4pXKa"
      },
      "source": [
        "#Expresiones Booleanas\n",
        "\n",
        "Las constantes booleanas se escriben en Python con la primera letra en mayúscula True y False. Algunos operadores lógicos son\n",
        "not (negación), or (disyunción), and (conjunción), ==  (equivalencia).\n",
        "\n",
        "Ejercicio: completa la función booleana is_stair_up(a,b,c),  que dados 3 números retorna True si $a \\leq b \\leq c$, y retorna False en caso contrario. Sustituye ____ por una expresión booleana."
      ]
    },
    {
      "cell_type": "code",
      "metadata": {
        "id": "Rd5ylQrerV8R"
      },
      "source": [
        "def is_stair_up(a: float, b: float, c: float) -> bool:\n",
        "    return (a<=b) and (b<=c)\n",
        "\n",
        "print(is_stair_up(2,3,4))    # True\n",
        "print(is_stair_up(2,2,3))    # True\n",
        "print(is_stair_up(-1,-2,-3)) # False"
      ],
      "execution_count": null,
      "outputs": []
    },
    {
      "cell_type": "markdown",
      "metadata": {
        "id": "KHkqnTHnNk2I"
      },
      "source": [
        "# Rango\n",
        "\n",
        "Python posee cuantificadores sobre rangos acotados que pueden utilizarse para traducir los cuantificadores de la notación GCL. La función range(a,b) retorna la lista de enteros entre a y b (sin incluir b, es decir, a<=x<b). \n"
      ]
    },
    {
      "cell_type": "code",
      "metadata": {
        "id": "uRjwwWVgOvKI"
      },
      "source": [
        "list(range(10))"
      ],
      "execution_count": null,
      "outputs": []
    },
    {
      "cell_type": "code",
      "metadata": {
        "id": "pTwbT6nONnod"
      },
      "source": [
        "list(range(5,10))"
      ],
      "execution_count": null,
      "outputs": []
    },
    {
      "cell_type": "markdown",
      "metadata": {
        "id": "pwUHVStKQCLi"
      },
      "source": [
        "# Cuantificadores\n",
        "\n",
        "Un cuantificador acotado en Python consta de tres partes: un rango, un filtro sobre ese rango y un predicado. El rango se puede expresar usando la función range y está precedido de la palabra in. El filtro es una condición adicional que puede aparecer en los cuantificadores de GCL, dentro del rango; éste se coloca en Python precedido de la palabra reservada if. Y el predicado corresponde al cuerpo del cuantificador GCL. La palabra reservada usada para el cuantificador universal es all y para el cuantificador existencial es any. El orden en que se escribe un cuantificador en Python es\n",
        "palabraReservada (predicado for variable in rango if filtro)\n"
      ]
    },
    {
      "cell_type": "markdown",
      "metadata": {
        "id": "Q_zE5DssQzti"
      },
      "source": [
        "# Cuantificador Universal"
      ]
    },
    {
      "cell_type": "code",
      "metadata": {
        "id": "3iiwMJxnQomA"
      },
      "source": [
        "all (is_even(num) for num in range(5,10)) #False"
      ],
      "execution_count": null,
      "outputs": []
    },
    {
      "cell_type": "markdown",
      "metadata": {
        "id": "_ECmSnx1Q54E"
      },
      "source": [
        "#Cuantificador Existencial\n"
      ]
    },
    {
      "cell_type": "code",
      "metadata": {
        "id": "8E-NDF-qQcYF"
      },
      "source": [
        "any (is_even(num) for num in range(5,10)) #True"
      ],
      "execution_count": null,
      "outputs": []
    },
    {
      "cell_type": "markdown",
      "metadata": {
        "id": "9hTpTVgZpwLq"
      },
      "source": [
        "\n",
        "Cuando el rango de un cuantificador incluye condiciones adicionales se coloca un **filtro**. \n",
        "\n",
        "Por ejemplo, el existencial $(\\exists z: -10 \\leq z \\leq 10 \\wedge  z \\neq 0 : z*z=z+z)$, incluye la condición adicional $z\\neq 0$, la cual puede agregarse usando un filtro if  como se muestra a continuación:\n",
        "\n"
      ]
    },
    {
      "cell_type": "code",
      "metadata": {
        "id": "QSjzuslipy_3"
      },
      "source": [
        "any (z*z==z+z for z in range(-2,3) if z!=0) # True, z==2"
      ],
      "execution_count": null,
      "outputs": []
    },
    {
      "cell_type": "code",
      "metadata": {
        "id": "qc-c4CzeqBZX"
      },
      "source": [
        "any (z*z==z+z for z in range(-2,2) if z!=0)  # False, 2 no está en el rango"
      ],
      "execution_count": null,
      "outputs": []
    },
    {
      "cell_type": "markdown",
      "metadata": {
        "id": "kLKyNtaYs3qv"
      },
      "source": [
        "También se pueden definir expresiones que usan las funciones de agregación máximo (max), mínimo (min) y sumatoria (sum), con la misma sintaxis. "
      ]
    },
    {
      "cell_type": "markdown",
      "metadata": {
        "id": "R5e6xPEmzYIC"
      },
      "source": [
        "\n",
        "##Ejercicio: Suma\n",
        "\n",
        "Traduce a Python la siguiente cuantificación  $(\\sum x : 1 \\leq x < 10 : x )$.  Sustituye  ____  para completar la cuantificación. El resultado es 45.\n",
        "\n"
      ]
    },
    {
      "cell_type": "code",
      "metadata": {
        "id": "gId_uP2Xz1F9"
      },
      "source": [
        "sum(range(1,10))"
      ],
      "execution_count": null,
      "outputs": []
    },
    {
      "cell_type": "markdown",
      "metadata": {
        "id": "_e9GUIxt0939"
      },
      "source": [
        "\n",
        "\n",
        "## Ejercicio:  Máximo\n",
        "\n",
        "Traduce a Python la siguiente cuantificación  $(\\uparrow  x : 5 \\leq x \\leq 40  \\wedge x^2 < 1250: x )$.  \n",
        " Sustituye  ____  para completar la cuantificación.  $\\uparrow$ es el símbolo de máximo. El resultado de la cuantificación es 35.\n"
      ]
    },
    {
      "cell_type": "code",
      "metadata": {
        "id": "SQxUKtFxpEkq"
      },
      "source": [
        "max(x for x in range(5,41) if (x*x)<1250)"
      ],
      "execution_count": null,
      "outputs": []
    },
    {
      "cell_type": "markdown",
      "metadata": {
        "id": "9Ni2mWMaWdDc"
      },
      "source": [
        "\n",
        "\n",
        "# Aserciones\n",
        "\n",
        "En Python es muy sencillo escribir las precondiciones y postcondiciones de los programas. Esto se hace usando la función assert que verifica si una condición se satisface o no. En caso que la condición no se verifique se produce un AssertionError. "
      ]
    },
    {
      "cell_type": "code",
      "metadata": {
        "id": "p8tCvnwSWhwK"
      },
      "source": [
        "x,y = 1,3\n",
        "assert x==1 and y==3  #Se evalúa verdadero, no se produce un error "
      ],
      "execution_count": null,
      "outputs": []
    },
    {
      "cell_type": "markdown",
      "metadata": {
        "id": "nIxhRdBiezln"
      },
      "source": [
        "\n",
        "\n",
        "Cuando una aserción no se cumple (la expresión se evalúa falsa), Python produce un AssertionError."
      ]
    },
    {
      "cell_type": "code",
      "metadata": {
        "id": "r3fleUXNXBiu"
      },
      "source": [
        "assert x==2"
      ],
      "execution_count": null,
      "outputs": []
    },
    {
      "cell_type": "markdown",
      "metadata": {
        "id": "1jsB4gfurZ_j"
      },
      "source": [
        "\n",
        "A continuación se muestra una función con precondiciones y postcondición. Se han completado los assert con un mensaje que identifique el error que detecta. Se utiliza la función isinstance() para garantizar que los parámetros a,b,c sean del tipo entero."
      ]
    },
    {
      "cell_type": "code",
      "metadata": {
        "id": "qlKxzJahXhN5"
      },
      "source": [
        "# -- Lo que sigue de comentarios es un encabezado que añade más información sobre el código --\n",
        "# Programa que dados tres enteros a,b y c,\n",
        "# calcula la division de a*a entre (b-c). Dicho resultado# es almacenado en d.\n",
        "# Author: \n",
        "#     Prof. Rosseline Rodriguez\n",
        "#\n",
        "# Date: 9/01/2018\n",
        "#\n",
        "# Modified by: C. Chang  on 09/01/2021\n",
        "#\n",
        "\n",
        "\n",
        "def custom_calculation(a: int, b: int, c: int) -> float:\n",
        "\n",
        "    # Preconditions\n",
        "    assert isinstance(a, int) and isinstance(a, int) and isinstance(a, int), 'Not int input'  \n",
        "    assert (b-c) != 0, 'Cannot divide by zero'    #  prevent division by zero\n",
        "    \n",
        "    d = a*a / (b-c)\n",
        "\n",
        "    assert d ==(a*a)/(b-c), 'Wrong Result'  # Postcondition\n",
        "\n",
        "    return d\n",
        "\n",
        "print(custom_calculation(25,10,25))   # -41.666666666666664\n"
      ],
      "execution_count": null,
      "outputs": []
    },
    {
      "cell_type": "markdown",
      "metadata": {
        "id": "Xe7-tN3CqwOH"
      },
      "source": [
        "\n",
        "La siguiente llamada a la función no cumple con la precondición pues a no es del tipo entero. La aserción se encarga de hacer esa verificación. "
      ]
    },
    {
      "cell_type": "code",
      "metadata": {
        "id": "3U2ExcJJqblY"
      },
      "source": [
        "print(custom_calculation(25.0,10,25)) #AssertionError"
      ],
      "execution_count": null,
      "outputs": []
    },
    {
      "cell_type": "markdown",
      "metadata": {
        "id": "-Ja3g5aiyHU3"
      },
      "source": [
        "\n",
        "\n",
        "La siguiente llamada a la función detecta que de ejecutarse la función se intentaría realizar una división por cero."
      ]
    },
    {
      "cell_type": "code",
      "metadata": {
        "id": "yA1fstZrsqwS"
      },
      "source": [
        "print(custom_calculation(25,10,10))  #AssertionError"
      ],
      "execution_count": null,
      "outputs": []
    },
    {
      "cell_type": "markdown",
      "metadata": {
        "id": "8MiKsxze5Ep7"
      },
      "source": [
        "\n",
        "## Ejercicio: Tiene raíz cuadrada entera\n",
        "\n",
        "Para n entero no negativo, implementa una función que calcule la siguiente cuantificación. No utilices instrucciones de Python no cubiertas en el laboratorio aunque ya las conozcas (por ejemplo, if, while). En cambio, utiliza una cuantificación.  Incluye la precondición usando assert. Añade otros casos de prueba para comprobar las aserciones.\n",
        "\n",
        "has_int_sqr(n) == $(\\exists x: 0 <= x <= n : n=x*x )$\n"
      ]
    },
    {
      "cell_type": "code",
      "metadata": {
        "id": "ERL_NC4f5JGD"
      },
      "source": [
        "\n",
        "def has_int_sqrt(number: int) -> bool:\n",
        "\n",
        "    #Precondiciones\n",
        "    assert isinstance(number, int), 'El número debe ser un entero'\n",
        "    assert number>=0, 'Los números negativos no tienen raíces reales'\n",
        "\n",
        "    return any (number==(x*x) for x in range(number+1))\n",
        "\n",
        "print(has_int_sqrt(0))      # True\n",
        "print(has_int_sqrt(1))      # True \n",
        "print(has_int_sqrt(2))      # False \n",
        "print(has_int_sqrt(3))      # False\n",
        "print(has_int_sqrt (4))     # True \n",
        "print(has_int_sqrt(5))      # False\n",
        "print(has_int_sqrt(10000))  # True\n",
        "\n",
        "#otros casos de prueba importantes, comentar las pruebas con negativos para que\n",
        "#el programa no lance error.\n",
        "\n",
        "print(has_int_sqrt(-100))     # Error\n",
        "print(has_int_sqrt(767))      # False\n",
        "print(has_int_sqrt(-1))       # Error\n",
        "print(has_int_sqrt(100))      # True\n",
        "\n"
      ],
      "execution_count": null,
      "outputs": []
    },
    {
      "cell_type": "markdown",
      "metadata": {
        "id": "2VAeWfGaB7MV"
      },
      "source": [
        "## Ejercicio: Máximo Común Divisor\n",
        "\n",
        "Dados dos valores enteros b, c que cumplen $1 <= b <=c$, implementa la función custom_gcd que retorna el  máximo común divisor de b y c. **No** utilices instrucciones de Python no cubiertas en el laboratorio aunque ya las conozcas (por ejemplo, if, while). En cambio, calcula el máximo común divisor utilizando una **cuantificación** y la operación **módulo**.\n",
        "\n",
        "**No** utilices la función gcd()  (importada desde la librería math) para calcular el máximo común divisor. Sin embargo, puedes utilizarla en la postcondición.\n",
        "\n",
        "Incluye la precondición, y la postcondición usando assert. Añade casos de prueba relevantes. \n",
        "\n",
        "Incluye encabezado, y descripción de la función para ser mostrada con la función help.\n"
      ]
    },
    {
      "cell_type": "code",
      "metadata": {
        "id": "06xS996mDXfY"
      },
      "source": [
        "\n",
        "# Programa que dados dos enteros b y c,\n",
        "# calcula y retorna el máximo común divisor de los mismos.\n",
        "# Author: \n",
        "#     Joaquín Yañez\n",
        "#\n",
        "# Date: 24/01/2021\n",
        "\n",
        "from math import gcd     # import function from libary\n",
        "\n",
        "def custom_gcd(b: int, c: int) -> int:\n",
        "    \"\"\" Calcula el máximo común divisor (mcd) entre 2 números enteros\n",
        "\n",
        "        Args:\n",
        "            b: número entero\n",
        "            c: número entero\n",
        "\n",
        "        Returns:\n",
        "            El mcd de los dos números\n",
        "    \"\"\"\n",
        "\n",
        "    #Precondiciones\n",
        "    assert isinstance(b, int) and isinstance(c, int), 'Los números deben ser enteros'\n",
        "    assert b>=1 and c>=b, 'c debe ser mayor o igual que b y b debe ser mayor o igual que 1'\n",
        "    \n",
        "    return max(x for x in range (1, c+1) if (b%x==0 and c%x==0))\n",
        "\n",
        "    #Postcondición\n",
        "    assert custom_gcd(b,c) == gcd(b,c)\n",
        "    \n",
        "# Casos de prueba\n",
        "help(custom_gcd)\n",
        "print(custom_gcd(12, 24)) #12\n",
        "print(custom_gcd(9, 36))  #9\n",
        "print(custom_gcd(15, 24)) #3\n",
        "print(custom_gcd(7, 63))  #7\n",
        "print(custom_gcd(4, 16))  #4\n",
        "print(custom_gcd(25, 25)) #25\n",
        "\n",
        "# Casos que no cumplen la precondición, eliminar el comentario para realizar la prueba\n",
        "#print(custom_gcd(24, 12))\n",
        "#print(custom_gcd(-1, 24))\n",
        "#print(custom_gcd(12, -24))\n",
        "#print(custom_gcd(0, 24))\n",
        "#print(custom_gcd(0.5, 2))"
      ],
      "execution_count": null,
      "outputs": []
    }
  ]
}